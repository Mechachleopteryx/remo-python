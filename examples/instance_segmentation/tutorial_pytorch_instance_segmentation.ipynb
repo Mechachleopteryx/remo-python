{
  "nbformat": 4,
  "nbformat_minor": 0,
  "metadata": {
    "colab": {
      "name": "Detectron2_custom_coco_data_segmentation.ipynb",
      "provenance": [],
      "collapsed_sections": []
    },
    "kernelspec": {
      "name": "python361064bitpt36condae3e1a72d28c3471788eb7ee1d404ab9a",
      "display_name": "Python 3.6.10 64-bit ('pt_36': conda)"
    },
    "accelerator": "GPU"
  },
  "cells": [
    {
      "cell_type": "markdown",
      "metadata": {},
      "source": [
        "# Remo Instance Segmentation Tutorial"
      ]
    },
    {
      "cell_type": "markdown",
      "metadata": {
        "id": "vM54r6jlKTII",
        "colab_type": "text"
      },
      "source": [
        "## Install Dependencies : Detectron2"
      ]
    },
    {
      "cell_type": "code",
      "metadata": {
        "id": "9_FzH13EjseR",
        "colab_type": "code",
        "colab": {
          "base_uri": "https://localhost:8080/",
          "height": 782
        },
        "outputId": "c93132bb-4bbe-430a-c7ee-1cbf3929a3f0",
        "tags": []
      },
      "source": [
        "!pip install git+https://github.com/facebookresearch/fvcore.git\n",
        "!git clone https://github.com/facebookresearch/detectron2 detectron2_repo\n",
        "!pip install -e detectron2_repo\n",
        "%reload_ext autoreload\n",
        "%autoreload"
      ],
      "execution_count": 14,
      "outputs": []
    },
    {
      "cell_type": "code",
      "metadata": {
        "id": "ZyAvNCJMmvFF",
        "colab_type": "code",
        "colab": {}
      },
      "source": [
        "# Imports\n",
        "import os\n",
        "import json\n",
        "\n",
        "import remo\n",
        "import numpy as np\n",
        "from pycocotools import mask\n",
        "from skimage import measure\n",
        "\n",
        "import torch, torchvision\n",
        "\n",
        "# Detectron 2 Imports\n",
        "import detectron2\n",
        "from detectron2.utils.logger import setup_logger\n",
        "setup_logger()\n",
        "from detectron2.engine import DefaultPredictor\n",
        "from detectron2.engine import DefaultTrainer\n",
        "from detectron2.data import MetadataCatalog, DatasetCatalog\n",
        "from detectron2.config import get_cfg\n",
        "from detectron2.data.datasets import register_coco_instances"
      ],
      "execution_count": 2,
      "outputs": []
    },
    {
      "cell_type": "markdown",
      "metadata": {},
      "source": [
        "## Dataset Configuration"
      ]
    },
    {
      "cell_type": "code",
      "metadata": {
        "id": "Lnkg1PByUjGQ",
        "colab_type": "code",
        "colab": {}
      },
      "source": [
        "register_coco_instances(\"dog_train\", {}, \"./dog_train.json\", \"./images\")\n",
        "register_coco_instances(\"dog_test\", {}, \"./dog_test.json\", \"./images\")\n",
        "register_coco_instances(\"dog_valid\", {}, \"./dog_valid.json\", \"./images\")"
      ],
      "execution_count": null,
      "outputs": []
    },
    {
      "cell_type": "code",
      "metadata": {
        "id": "MWknKqWTWIw9",
        "colab_type": "code",
        "colab": {
          "base_uri": "https://localhost:8080/",
          "height": 34
        },
        "outputId": "ba15ef36-d4be-4e05-bd90-48238607e17d",
        "tags": []
      },
      "source": [
        "segm_dogs_og_metadata = MetadataCatalog.get(\"dog_train\")\n",
        "dataset_dicts = DatasetCatalog.get(\"dog_train\")"
      ],
      "execution_count": null,
      "outputs": []
    },
    {
      "cell_type": "markdown",
      "metadata": {},
      "source": [
        "## Model Configuration"
      ]
    },
    {
      "cell_type": "code",
      "execution_count": null,
      "metadata": {},
      "outputs": [],
      "source": [
        "model_yaml_path = \"./detectron2_repo/configs/COCO-InstanceSegmentation/mask_rcnn_R_50_FPN_3x.yaml\"\n",
        "model_weights_path = \"detectron2://COCO-InstanceSegmentation/mask_rcnn_R_50_FPN_3x/137849600/model_final_f10217.pkl\""
      ]
    },
    {
      "cell_type": "code",
      "metadata": {
        "id": "7unkuuiqLdqd",
        "colab_type": "code",
        "colab": {
          "base_uri": "https://localhost:8080/",
          "height": 1000
        },
        "outputId": "db13d10e-fe5a-4493-e17a-d5c886b7a7f1"
      },
      "source": [
        "\n",
        "cfg = get_cfg()\n",
        "cfg.merge_from_file(model_yaml_path)\n",
        "cfg.DATASETS.TRAIN = (\"dog_train\",)\n",
        "cfg.DATASETS.TEST = ()   # no metrics implemented for this dataset\n",
        "cfg.DATALOADER.NUM_WORKERS = 2\n",
        "cfg.MODEL.WEIGHTS = model_weights_path # initialize from model zoo\n",
        "cfg.SOLVER.IMS_PER_BATCH = 2\n",
        "cfg.SOLVER.BASE_LR = 0.02\n",
        "cfg.SOLVER.MAX_ITER = 300    # 300 iterations seems good enough, but you can certainly train longer\n",
        "cfg.MODEL.ROI_HEADS.BATCH_SIZE_PER_IMAGE = 128   # faster, and good enough for this toy dataset\n",
        "cfg.MODEL.ROI_HEADS.NUM_CLASSES = 1  # 3 classes (data, fig, hazelnut)\n",
        "os.makedirs(cfg.OUTPUT_DIR, exist_ok=True)\n"
      ],
      "execution_count": null,
      "outputs": []
    },
    {
      "cell_type": "code",
      "execution_count": null,
      "metadata": {},
      "outputs": [],
      "source": [
        "trainer = DefaultTrainer(cfg)\n",
        "trainer.resume_or_load(resume=False)\n",
        "trainer.train()"
      ]
    },
    {
      "cell_type": "markdown",
      "metadata": {},
      "source": [
        "## Inference"
      ]
    },
    {
      "cell_type": "code",
      "metadata": {
        "id": "Ya5nEuMELeq8",
        "colab_type": "code",
        "colab": {}
      },
      "source": [
        "cfg.MODEL.WEIGHTS = os.path.join(cfg.OUTPUT_DIR, \"model_final.pth\")\n",
        "cfg.MODEL.ROI_HEADS.SCORE_THRESH_TEST = 0.5   # set the testing threshold for this model\n",
        "cfg.DATASETS.TEST = (\"dog_test\", )\n",
        "predictor = DefaultPredictor(cfg)\n",
        "test_dataset_dicts = DatasetCatalog.get(\"dog_test\")"
      ],
      "execution_count": null,
      "outputs": []
    },
    {
      "cell_type": "code",
      "metadata": {
        "id": "U5LhISJqWXgM",
        "colab_type": "code",
        "colab": {
          "base_uri": "https://localhost:8080/",
          "height": 1000
        },
        "outputId": "7b328ad7-1f1c-4c58-9978-a15e4194a35d"
      },
      "source": [
        "for d in random.sample(test_dataset_dicts, 1):    \n",
        "    outputs = predictor(im)"
      ],
      "execution_count": null,
      "outputs": []
    },
    {
      "cell_type": "code",
      "execution_count": null,
      "metadata": {},
      "outputs": [],
      "source": [
        "pred_masks = outputs['instances'].get(\"pred_masks\").cpu().permute(2, 1, 0).numpy()[:, :, 0]\n",
        "polygons = Mask(pred_masks).polygons()\n",
        "print(polygons.points)"
      ]
    },
    {
      "cell_type": "markdown",
      "metadata": {},
      "source": [
        "## Uploading Predictions"
      ]
    },
    {
      "cell_type": "code",
      "execution_count": null,
      "metadata": {},
      "outputs": [],
      "source": [
        "import json\n",
        "import numpy as np\n",
        "from pycocotools import mask\n",
        "from skimage import measure\n",
        "\n",
        "ground_truth_binary_mask =  tempmask.astype(np.uint8)\n",
        "\n",
        "fortran_ground_truth_binary_mask = np.asfortranarray(ground_truth_binary_mask)\n",
        "encoded_ground_truth = mask.encode(fortran_ground_truth_binary_mask)\n",
        "ground_truth_area = mask.area(encoded_ground_truth)\n",
        "ground_truth_bounding_box = mask.toBbox(encoded_ground_truth)\n",
        "contours = measure.find_contours(ground_truth_binary_mask, 0.5)\n",
        "\n",
        "\n",
        "annotation = {\n",
        "        \"segmentation\": [],\n",
        "        \"area\": ground_truth_area.tolist(),\n",
        "        \"iscrowd\": 0,\n",
        "        \"image_id\": 123,\n",
        "        \"bbox\": ground_truth_bounding_box.tolist(),\n",
        "        \"category_id\": 18,\n",
        "        \"id\": 1\n",
        "    }\n",
        "\n",
        "annotations = []\n",
        "for contour in contours:\n",
        "    contour = np.flip(contour, axis=1)\n",
        "    segmentation = contour.ravel().tolist()\n",
        "    annotation[\"segmentation\"].append([int(i) for i in segmentation])\n",
        "print(json.dumps(annotation, indent=4))"
      ]
    }
  ]
}